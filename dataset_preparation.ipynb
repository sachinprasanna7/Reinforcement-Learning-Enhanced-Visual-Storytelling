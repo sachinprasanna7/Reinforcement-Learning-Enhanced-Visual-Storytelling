{
 "cells": [
  {
   "cell_type": "markdown",
   "metadata": {},
   "source": [
    "# Importing Libraries"
   ]
  },
  {
   "cell_type": "code",
   "execution_count": 1,
   "metadata": {},
   "outputs": [],
   "source": [
    "import json"
   ]
  },
  {
   "cell_type": "markdown",
   "metadata": {},
   "source": [
    "# Organizing the Dataset"
   ]
  },
  {
   "cell_type": "code",
   "execution_count": 2,
   "metadata": {},
   "outputs": [],
   "source": [
    "folder_path = 'Dataset/SSID_Annotations/'"
   ]
  },
  {
   "cell_type": "code",
   "execution_count": 3,
   "metadata": {},
   "outputs": [],
   "source": [
    "def load_json(file_path, folder_path):\n",
    "\n",
    "    file_path = folder_path + file_path\n",
    "    with open(file_path, 'r') as file:\n",
    "        data = json.load(file)\n",
    "    return data"
   ]
  },
  {
   "cell_type": "code",
   "execution_count": 4,
   "metadata": {},
   "outputs": [],
   "source": [
    "train_data = load_json('SSID_Train.json', folder_path)\n",
    "validation_data = load_json('SSID_Validation.json', folder_path)\n",
    "test_data = load_json('SSID_Test.json', folder_path)"
   ]
  },
  {
   "cell_type": "code",
   "execution_count": 5,
   "metadata": {},
   "outputs": [],
   "source": [
    "def organize_data(data):\n",
    "    organized_data = {}\n",
    "    \n",
    "    for annotation in data['annotations']:\n",
    "\n",
    "        current_dict = annotation[0]\n",
    "        album_id = current_dict['album_id']\n",
    "        story_id = current_dict['story_id']\n",
    "        \n",
    "        if album_id not in organized_data:\n",
    "            organized_data[album_id] = {}\n",
    "\n",
    "        if story_id not in organized_data[album_id]:\n",
    "            organized_data[album_id][story_id] = []\n",
    "\n",
    "        organized_data[album_id][story_id].append({\n",
    "            'image_id': current_dict['youtube_image_id'], \n",
    "            'storytext': current_dict['storytext'],       \n",
    "            'image_order': current_dict['image_order']     \n",
    "        })\n",
    "    \n",
    "    for album_id in organized_data:\n",
    "        for story_id in organized_data[album_id]:\n",
    "            organized_data[album_id][story_id].sort(key=lambda x: x['image_order'])\n",
    "    \n",
    "    return organized_data"
   ]
  },
  {
   "cell_type": "code",
   "execution_count": 6,
   "metadata": {},
   "outputs": [],
   "source": [
    "train_organized_data = organize_data(train_data)\n",
    "validation_organized_data = organize_data(validation_data)\n",
    "test_organized_data = organize_data(test_data)"
   ]
  },
  {
   "cell_type": "code",
   "execution_count": 7,
   "metadata": {},
   "outputs": [],
   "source": [
    "def display_album(organized_data, album_id):\n",
    "    if album_id in organized_data:\n",
    "        print(f\"Album ID: {album_id}\")\n",
    "        for story_id, story_data in organized_data[album_id].items():\n",
    "            print(f\"\\nStory ID: {story_id}\")\n",
    "            for entry in story_data:\n",
    "                image_file = f\"{entry['image_id']}.jpg\"\n",
    "                story_text = entry['storytext']\n",
    "                print(f\"Image: {image_file} - Story: {story_text}\")\n",
    "    else:\n",
    "        print(f\"Album ID {album_id} not found.\")"
   ]
  },
  {
   "cell_type": "code",
   "execution_count": 8,
   "metadata": {},
   "outputs": [
    {
     "name": "stdout",
     "output_type": "stream",
     "text": [
      "Album ID: 10856\n",
      "\n",
      "Story ID: 5887\n",
      "Image: 2001.jpg - Story: Today I am in my friends house and he is very happy for me.\n",
      "Image: 2002.jpg - Story: He is telling me about his car.\n",
      "Image: 2003.jpg - Story: He is telling me about his car's feature.\n",
      "Image: 2004.jpg - Story: The car color is white and it looks awesome and beautiful.\n",
      "Image: 2005.jpg - Story: Now he is telling me about all doors and seats of the car.\n",
      "\n",
      "Story ID: 5889\n",
      "Image: 2001.jpg - Story: Today I am here to meet my friend.\n",
      "Image: 2002.jpg - Story: He is a good guy showing me his car.\n",
      "Image: 2003.jpg - Story: He is telling me about his car's features.\n",
      "Image: 2004.jpg - Story: He opened the door of car.\n",
      "Image: 2005.jpg - Story: He is telling me about doors and seats of the car.\n",
      "\n",
      "Story ID: 5891\n",
      "Image: 2001.jpg - Story: [Male] is standing in their [location].\n",
      "Image: 2002.jpg - Story: [Male] steps to the side, revealing a [figure].\n",
      "Image: 2003.jpg - Story: [Male] holds [figure] so that the [location] is seen up close.\n",
      "Image: 2004.jpg - Story: [Figure] is moved to [location] and a frontal view is seen.\n",
      "Image: 2005.jpg - Story: [Male] demonstrates how the [figure] operates.\n",
      "\n",
      "Story ID: 5893\n",
      "Image: 2001.jpg - Story: taking a photo of a boy.\n",
      "Image: 2002.jpg - Story: The boy looks at his white toy race car.\n",
      "Image: 2003.jpg - Story: The boy picks up his car and starts showing it off.\n",
      "Image: 2004.jpg - Story: The boy than proceeds to point to the door of the car.\n",
      "Image: 2005.jpg - Story: The boy shows how the door opens and closes on the car.\n"
     ]
    }
   ],
   "source": [
    "display_album(train_organized_data, 10856)"
   ]
  },
  {
   "cell_type": "code",
   "execution_count": 9,
   "metadata": {},
   "outputs": [
    {
     "name": "stdout",
     "output_type": "stream",
     "text": [
      "<class 'dict'>\n"
     ]
    }
   ],
   "source": [
    "print(type(train_organized_data))"
   ]
  },
  {
   "cell_type": "code",
   "execution_count": 10,
   "metadata": {},
   "outputs": [],
   "source": [
    "# store the organized data in a json file\n",
    "def store_json(data, file_path, folder_path):\n",
    "    file_path = folder_path + file_path\n",
    "    with open(file_path, 'w') as file:\n",
    "        json.dump(data, file)"
   ]
  },
  {
   "cell_type": "code",
   "execution_count": 11,
   "metadata": {},
   "outputs": [],
   "source": [
    "store_json(train_organized_data, 'SSID_Train_Organized.json', 'Dataset/Organized_Annotations/')"
   ]
  },
  {
   "cell_type": "code",
   "execution_count": 12,
   "metadata": {},
   "outputs": [],
   "source": [
    "store_json(validation_organized_data, 'SSID_Validation_Organized.json', 'Dataset/Organized_Annotations/')"
   ]
  },
  {
   "cell_type": "code",
   "execution_count": 13,
   "metadata": {},
   "outputs": [],
   "source": [
    "store_json(test_organized_data, 'SSID_Test_Organized.json', 'Dataset/Organized_Annotations/')"
   ]
  }
 ],
 "metadata": {
  "kernelspec": {
   "display_name": "cv",
   "language": "python",
   "name": "python3"
  },
  "language_info": {
   "codemirror_mode": {
    "name": "ipython",
    "version": 3
   },
   "file_extension": ".py",
   "mimetype": "text/x-python",
   "name": "python",
   "nbconvert_exporter": "python",
   "pygments_lexer": "ipython3",
   "version": "3.8.10"
  }
 },
 "nbformat": 4,
 "nbformat_minor": 2
}
